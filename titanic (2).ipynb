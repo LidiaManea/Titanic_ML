{
 "cells": [
  {
   "cell_type": "markdown",
   "id": "9c59f494",
   "metadata": {
    "papermill": {
     "duration": 0.013443,
     "end_time": "2022-10-22T22:42:38.631861",
     "exception": false,
     "start_time": "2022-10-22T22:42:38.618418",
     "status": "completed"
    },
    "tags": []
   },
   "source": [
    "# Titanic Dataset - Program which uses Logistic Regression and SVM and analyzes their performance. Additional: XGBoost and DecisionTree  \n",
    "   \n",
    "   \n",
    "    I tried to build a program which is focused on tuning the parameters of Logistic Regression and on SVM to achieve high accuracy on this dataset.\n",
    "   \n",
    "    Firstly, I imported the libraries needed to write the code and I loaded the two datasets:"
   ]
  },
  {
   "cell_type": "code",
   "execution_count": 1,
   "id": "e4960245",
   "metadata": {
    "execution": {
     "iopub.execute_input": "2022-10-22T22:42:38.657363Z",
     "iopub.status.busy": "2022-10-22T22:42:38.656561Z",
     "iopub.status.idle": "2022-10-22T22:42:39.836914Z",
     "shell.execute_reply": "2022-10-22T22:42:39.835621Z"
    },
    "papermill": {
     "duration": 1.196776,
     "end_time": "2022-10-22T22:42:39.840180",
     "exception": false,
     "start_time": "2022-10-22T22:42:38.643404",
     "status": "completed"
    },
    "tags": []
   },
   "outputs": [],
   "source": [
    "import numpy as np\n",
    "import pandas as pd\n",
    "import matplotlib.pyplot as plt\n",
    "import seaborn as sns"
   ]
  },
  {
   "cell_type": "code",
   "execution_count": 2,
   "id": "5d46005c",
   "metadata": {
    "execution": {
     "iopub.execute_input": "2022-10-22T22:42:39.866925Z",
     "iopub.status.busy": "2022-10-22T22:42:39.866499Z",
     "iopub.status.idle": "2022-10-22T22:42:39.908433Z",
     "shell.execute_reply": "2022-10-22T22:42:39.907031Z"
    },
    "papermill": {
     "duration": 0.0573,
     "end_time": "2022-10-22T22:42:39.911289",
     "exception": false,
     "start_time": "2022-10-22T22:42:39.853989",
     "status": "completed"
    },
    "tags": []
   },
   "outputs": [
    {
     "data": {
      "text/html": [
       "<div>\n",
       "<style scoped>\n",
       "    .dataframe tbody tr th:only-of-type {\n",
       "        vertical-align: middle;\n",
       "    }\n",
       "\n",
       "    .dataframe tbody tr th {\n",
       "        vertical-align: top;\n",
       "    }\n",
       "\n",
       "    .dataframe thead th {\n",
       "        text-align: right;\n",
       "    }\n",
       "</style>\n",
       "<table border=\"1\" class=\"dataframe\">\n",
       "  <thead>\n",
       "    <tr style=\"text-align: right;\">\n",
       "      <th></th>\n",
       "      <th>PassengerId</th>\n",
       "      <th>Survived</th>\n",
       "      <th>Pclass</th>\n",
       "      <th>Name</th>\n",
       "      <th>Sex</th>\n",
       "      <th>Age</th>\n",
       "      <th>SibSp</th>\n",
       "      <th>Parch</th>\n",
       "      <th>Ticket</th>\n",
       "      <th>Fare</th>\n",
       "      <th>Cabin</th>\n",
       "      <th>Embarked</th>\n",
       "    </tr>\n",
       "  </thead>\n",
       "  <tbody>\n",
       "    <tr>\n",
       "      <th>0</th>\n",
       "      <td>1</td>\n",
       "      <td>0</td>\n",
       "      <td>3</td>\n",
       "      <td>Braund, Mr. Owen Harris</td>\n",
       "      <td>male</td>\n",
       "      <td>22.0</td>\n",
       "      <td>1</td>\n",
       "      <td>0</td>\n",
       "      <td>A/5 21171</td>\n",
       "      <td>7.2500</td>\n",
       "      <td>NaN</td>\n",
       "      <td>S</td>\n",
       "    </tr>\n",
       "    <tr>\n",
       "      <th>1</th>\n",
       "      <td>2</td>\n",
       "      <td>1</td>\n",
       "      <td>1</td>\n",
       "      <td>Cumings, Mrs. John Bradley (Florence Briggs Th...</td>\n",
       "      <td>female</td>\n",
       "      <td>38.0</td>\n",
       "      <td>1</td>\n",
       "      <td>0</td>\n",
       "      <td>PC 17599</td>\n",
       "      <td>71.2833</td>\n",
       "      <td>C85</td>\n",
       "      <td>C</td>\n",
       "    </tr>\n",
       "    <tr>\n",
       "      <th>2</th>\n",
       "      <td>3</td>\n",
       "      <td>1</td>\n",
       "      <td>3</td>\n",
       "      <td>Heikkinen, Miss. Laina</td>\n",
       "      <td>female</td>\n",
       "      <td>26.0</td>\n",
       "      <td>0</td>\n",
       "      <td>0</td>\n",
       "      <td>STON/O2. 3101282</td>\n",
       "      <td>7.9250</td>\n",
       "      <td>NaN</td>\n",
       "      <td>S</td>\n",
       "    </tr>\n",
       "    <tr>\n",
       "      <th>3</th>\n",
       "      <td>4</td>\n",
       "      <td>1</td>\n",
       "      <td>1</td>\n",
       "      <td>Futrelle, Mrs. Jacques Heath (Lily May Peel)</td>\n",
       "      <td>female</td>\n",
       "      <td>35.0</td>\n",
       "      <td>1</td>\n",
       "      <td>0</td>\n",
       "      <td>113803</td>\n",
       "      <td>53.1000</td>\n",
       "      <td>C123</td>\n",
       "      <td>S</td>\n",
       "    </tr>\n",
       "    <tr>\n",
       "      <th>4</th>\n",
       "      <td>5</td>\n",
       "      <td>0</td>\n",
       "      <td>3</td>\n",
       "      <td>Allen, Mr. William Henry</td>\n",
       "      <td>male</td>\n",
       "      <td>35.0</td>\n",
       "      <td>0</td>\n",
       "      <td>0</td>\n",
       "      <td>373450</td>\n",
       "      <td>8.0500</td>\n",
       "      <td>NaN</td>\n",
       "      <td>S</td>\n",
       "    </tr>\n",
       "  </tbody>\n",
       "</table>\n",
       "</div>"
      ],
      "text/plain": [
       "   PassengerId  Survived  Pclass  \\\n",
       "0            1         0       3   \n",
       "1            2         1       1   \n",
       "2            3         1       3   \n",
       "3            4         1       1   \n",
       "4            5         0       3   \n",
       "\n",
       "                                                Name     Sex   Age  SibSp  \\\n",
       "0                            Braund, Mr. Owen Harris    male  22.0      1   \n",
       "1  Cumings, Mrs. John Bradley (Florence Briggs Th...  female  38.0      1   \n",
       "2                             Heikkinen, Miss. Laina  female  26.0      0   \n",
       "3       Futrelle, Mrs. Jacques Heath (Lily May Peel)  female  35.0      1   \n",
       "4                           Allen, Mr. William Henry    male  35.0      0   \n",
       "\n",
       "   Parch            Ticket     Fare Cabin Embarked  \n",
       "0      0         A/5 21171   7.2500   NaN        S  \n",
       "1      0          PC 17599  71.2833   C85        C  \n",
       "2      0  STON/O2. 3101282   7.9250   NaN        S  \n",
       "3      0            113803  53.1000  C123        S  \n",
       "4      0            373450   8.0500   NaN        S  "
      ]
     },
     "execution_count": 2,
     "metadata": {},
     "output_type": "execute_result"
    }
   ],
   "source": [
    "data_train = pd.read_csv(\"../input/titanic/train.csv\")\n",
    "data_train.head()\n",
    "#data_train.shape #(891, 12)\n",
    "#data_test.head()"
   ]
  },
  {
   "cell_type": "markdown",
   "id": "0bee2b34",
   "metadata": {
    "papermill": {
     "duration": 0.01097,
     "end_time": "2022-10-22T22:42:39.933754",
     "exception": false,
     "start_time": "2022-10-22T22:42:39.922784",
     "status": "completed"
    },
    "tags": []
   },
   "source": [
    "    The number of cells (the shape) of the train dataset is:"
   ]
  },
  {
   "cell_type": "code",
   "execution_count": 3,
   "id": "7c230ea8",
   "metadata": {
    "execution": {
     "iopub.execute_input": "2022-10-22T22:42:39.958365Z",
     "iopub.status.busy": "2022-10-22T22:42:39.957977Z",
     "iopub.status.idle": "2022-10-22T22:42:39.966015Z",
     "shell.execute_reply": "2022-10-22T22:42:39.964617Z"
    },
    "papermill": {
     "duration": 0.023957,
     "end_time": "2022-10-22T22:42:39.968940",
     "exception": false,
     "start_time": "2022-10-22T22:42:39.944983",
     "status": "completed"
    },
    "tags": []
   },
   "outputs": [
    {
     "data": {
      "text/plain": [
       "(891, 12)"
      ]
     },
     "execution_count": 3,
     "metadata": {},
     "output_type": "execute_result"
    }
   ],
   "source": [
    "data_train.shape"
   ]
  },
  {
   "cell_type": "markdown",
   "id": "3d94d25b",
   "metadata": {
    "papermill": {
     "duration": 0.010891,
     "end_time": "2022-10-22T22:42:39.991113",
     "exception": false,
     "start_time": "2022-10-22T22:42:39.980222",
     "status": "completed"
    },
    "tags": []
   },
   "source": [
    "    Next, it is created the list of the features in this dataset to analyze the data in a easier way:"
   ]
  },
  {
   "cell_type": "code",
   "execution_count": 4,
   "id": "fdcbe30b",
   "metadata": {
    "execution": {
     "iopub.execute_input": "2022-10-22T22:42:40.016597Z",
     "iopub.status.busy": "2022-10-22T22:42:40.015978Z",
     "iopub.status.idle": "2022-10-22T22:42:40.023203Z",
     "shell.execute_reply": "2022-10-22T22:42:40.021135Z"
    },
    "papermill": {
     "duration": 0.023379,
     "end_time": "2022-10-22T22:42:40.026219",
     "exception": false,
     "start_time": "2022-10-22T22:42:40.002840",
     "status": "completed"
    },
    "tags": []
   },
   "outputs": [
    {
     "name": "stdout",
     "output_type": "stream",
     "text": [
      "['PassengerId', 'Survived', 'Pclass', 'Name', 'Sex', 'Age', 'SibSp', 'Parch', 'Ticket', 'Fare', 'Cabin', 'Embarked']\n"
     ]
    }
   ],
   "source": [
    "features = [col for col in data_train.columns]\n",
    "print(features)"
   ]
  },
  {
   "cell_type": "markdown",
   "id": "20fceca0",
   "metadata": {
    "papermill": {
     "duration": 0.011564,
     "end_time": "2022-10-22T22:42:40.049815",
     "exception": false,
     "start_time": "2022-10-22T22:42:40.038251",
     "status": "completed"
    },
    "tags": []
   },
   "source": [
    "    It is checked the type of the data of every column and the function creates a list which contains the object features:"
   ]
  },
  {
   "cell_type": "code",
   "execution_count": 5,
   "id": "44d5752b",
   "metadata": {
    "execution": {
     "iopub.execute_input": "2022-10-22T22:42:40.075949Z",
     "iopub.status.busy": "2022-10-22T22:42:40.075463Z",
     "iopub.status.idle": "2022-10-22T22:42:40.089008Z",
     "shell.execute_reply": "2022-10-22T22:42:40.087835Z"
    },
    "papermill": {
     "duration": 0.029524,
     "end_time": "2022-10-22T22:42:40.091396",
     "exception": false,
     "start_time": "2022-10-22T22:42:40.061872",
     "status": "completed"
    },
    "tags": []
   },
   "outputs": [
    {
     "data": {
      "text/plain": [
       "['Name', 'Sex', 'Ticket', 'Cabin', 'Embarked']"
      ]
     },
     "execution_count": 5,
     "metadata": {},
     "output_type": "execute_result"
    }
   ],
   "source": [
    "def findObj(features):\n",
    "    features_obj = []\n",
    "    for feat in features:\n",
    "        if data_train[feat].dtype == \"object\":\n",
    "            features_obj.append(feat)\n",
    "    return features_obj\n",
    "findObj(features)"
   ]
  },
  {
   "cell_type": "markdown",
   "id": "c1b30067",
   "metadata": {
    "papermill": {
     "duration": 0.011123,
     "end_time": "2022-10-22T22:42:40.114087",
     "exception": false,
     "start_time": "2022-10-22T22:42:40.102964",
     "status": "completed"
    },
    "tags": []
   },
   "source": [
    "    After creating the list of features, the function where_null creates a list which contains the features where there exist null values:"
   ]
  },
  {
   "cell_type": "code",
   "execution_count": 6,
   "id": "36c3d230",
   "metadata": {
    "execution": {
     "iopub.execute_input": "2022-10-22T22:42:40.140227Z",
     "iopub.status.busy": "2022-10-22T22:42:40.139601Z",
     "iopub.status.idle": "2022-10-22T22:42:40.150335Z",
     "shell.execute_reply": "2022-10-22T22:42:40.149323Z"
    },
    "papermill": {
     "duration": 0.026654,
     "end_time": "2022-10-22T22:42:40.152472",
     "exception": false,
     "start_time": "2022-10-22T22:42:40.125818",
     "status": "completed"
    },
    "tags": []
   },
   "outputs": [
    {
     "data": {
      "text/plain": [
       "['Age', 'Cabin', 'Embarked']"
      ]
     },
     "execution_count": 6,
     "metadata": {},
     "output_type": "execute_result"
    }
   ],
   "source": [
    "def where_null(data_train, features):\n",
    "    features_where_null = []\n",
    "    for feat in features:\n",
    "        if data_train[feat].isnull().sum() >= 1:\n",
    "            features_where_null.append(feat)\n",
    "    return features_where_null\n",
    "problem_feat = where_null(data_train, features)\n",
    "problem_feat"
   ]
  },
  {
   "cell_type": "markdown",
   "id": "9ca5ec09",
   "metadata": {
    "papermill": {
     "duration": 0.011281,
     "end_time": "2022-10-22T22:42:40.175206",
     "exception": false,
     "start_time": "2022-10-22T22:42:40.163925",
     "status": "completed"
    },
    "tags": []
   },
   "source": [
    "    The next two blocks of code calculate how many null values are in every feature from problem_feat list and how how many values are left:"
   ]
  },
  {
   "cell_type": "code",
   "execution_count": 7,
   "id": "ab91e926",
   "metadata": {
    "execution": {
     "iopub.execute_input": "2022-10-22T22:42:40.200523Z",
     "iopub.status.busy": "2022-10-22T22:42:40.199744Z",
     "iopub.status.idle": "2022-10-22T22:42:40.209674Z",
     "shell.execute_reply": "2022-10-22T22:42:40.208257Z"
    },
    "papermill": {
     "duration": 0.02583,
     "end_time": "2022-10-22T22:42:40.212607",
     "exception": false,
     "start_time": "2022-10-22T22:42:40.186777",
     "status": "completed"
    },
    "tags": []
   },
   "outputs": [
    {
     "name": "stdout",
     "output_type": "stream",
     "text": [
      "Age 177\n",
      "Cabin 687\n",
      "Embarked 2\n"
     ]
    }
   ],
   "source": [
    "for feat in problem_feat:\n",
    "    print(feat + \" \" + str(data_train[feat].isnull().sum()))"
   ]
  },
  {
   "cell_type": "code",
   "execution_count": 8,
   "id": "807eff55",
   "metadata": {
    "execution": {
     "iopub.execute_input": "2022-10-22T22:42:40.238197Z",
     "iopub.status.busy": "2022-10-22T22:42:40.237427Z",
     "iopub.status.idle": "2022-10-22T22:42:40.245700Z",
     "shell.execute_reply": "2022-10-22T22:42:40.243623Z"
    },
    "papermill": {
     "duration": 0.023949,
     "end_time": "2022-10-22T22:42:40.248371",
     "exception": false,
     "start_time": "2022-10-22T22:42:40.224422",
     "status": "completed"
    },
    "tags": []
   },
   "outputs": [
    {
     "name": "stdout",
     "output_type": "stream",
     "text": [
      "Age 714\n",
      "Cabin 204\n",
      "Embarked 889\n"
     ]
    }
   ],
   "source": [
    "for feat in problem_feat:\n",
    "    print(feat + \" \" + str(891 - data_train[feat].isnull().sum()))"
   ]
  },
  {
   "cell_type": "markdown",
   "id": "af432320",
   "metadata": {
    "papermill": {
     "duration": 0.01322,
     "end_time": "2022-10-22T22:42:40.273659",
     "exception": false,
     "start_time": "2022-10-22T22:42:40.260439",
     "status": "completed"
    },
    "tags": []
   },
   "source": [
    "    We notice that 'Embarked' and 'Age' has some useful information. Comparing them to 'Cabin', these columns contain far more information. But we should see how useful are they regarding to predicting the outcome (we can use mutual information or analysing the data based on percentile). For example:"
   ]
  },
  {
   "cell_type": "code",
   "execution_count": 9,
   "id": "64256234",
   "metadata": {
    "execution": {
     "iopub.execute_input": "2022-10-22T22:42:40.300477Z",
     "iopub.status.busy": "2022-10-22T22:42:40.299965Z",
     "iopub.status.idle": "2022-10-22T22:42:40.599604Z",
     "shell.execute_reply": "2022-10-22T22:42:40.598278Z"
    },
    "papermill": {
     "duration": 0.317056,
     "end_time": "2022-10-22T22:42:40.602406",
     "exception": false,
     "start_time": "2022-10-22T22:42:40.285350",
     "status": "completed"
    },
    "tags": []
   },
   "outputs": [
    {
     "data": {
      "text/plain": [
       "Text(0, 0.5, 'Number')"
      ]
     },
     "execution_count": 9,
     "metadata": {},
     "output_type": "execute_result"
    },
    {
     "data": {
      "image/png": "[encoded data removed]",
      "text/plain": [
       "<Figure size 720x360 with 1 Axes>"
      ]
     },
     "metadata": {
      "needs_background": "light"
     },
     "output_type": "display_data"
    }
   ],
   "source": [
    "plt.figure(figsize = (10, 5))\n",
    "plt.title(\"Based on gender\")\n",
    "sns.barplot(x = data_train['Sex'], y = data_train.index)\n",
    "plt.xlabel(\"Secs\")\n",
    "plt.ylabel(\"Number\")"
   ]
  },
  {
   "cell_type": "markdown",
   "id": "5c48d6a5",
   "metadata": {
    "papermill": {
     "duration": 0.011978,
     "end_time": "2022-10-22T22:42:40.627589",
     "exception": false,
     "start_time": "2022-10-22T22:42:40.615611",
     "status": "completed"
    },
    "tags": []
   },
   "source": [
    "We observe that there are slightly more men than women so it is balanced."
   ]
  },
  {
   "cell_type": "code",
   "execution_count": 10,
   "id": "327a2cb3",
   "metadata": {
    "execution": {
     "iopub.execute_input": "2022-10-22T22:42:40.653902Z",
     "iopub.status.busy": "2022-10-22T22:42:40.653366Z",
     "iopub.status.idle": "2022-10-22T22:42:40.954526Z",
     "shell.execute_reply": "2022-10-22T22:42:40.952664Z"
    },
    "papermill": {
     "duration": 0.318162,
     "end_time": "2022-10-22T22:42:40.957798",
     "exception": false,
     "start_time": "2022-10-22T22:42:40.639636",
     "status": "completed"
    },
    "tags": []
   },
   "outputs": [
    {
     "data": {
      "text/plain": [
       "<AxesSubplot:xlabel='Pclass'>"
      ]
     },
     "execution_count": 10,
     "metadata": {},
     "output_type": "execute_result"
    },
    {
     "data": {
      "image/png": "[encoded data removed]",
      "text/plain": [
       "<Figure size 720x360 with 1 Axes>"
      ]
     },
     "metadata": {
      "needs_background": "light"
     },
     "output_type": "display_data"
    }
   ],
   "source": [
    "plt.figure(figsize = (10, 5), num = \"Based on Class\")\n",
    "sns.barplot(x = data_train['Pclass'], y = data_train.index)"
   ]
  },
  {
   "cell_type": "markdown",
   "id": "656517d2",
   "metadata": {
    "papermill": {
     "duration": 0.012679,
     "end_time": "2022-10-22T22:42:40.985343",
     "exception": false,
     "start_time": "2022-10-22T22:42:40.972664",
     "status": "completed"
    },
    "tags": []
   },
   "source": [
    "    Classes are balanced; So now we will use mutual information to decide which data is more important regarding our model. When working with this data, it is important to separate the output('Survived') column to work with our data and to factorize the object type data because mutual information behaves differently when working with discrete features or continuos features"
   ]
  },
  {
   "cell_type": "code",
   "execution_count": 11,
   "id": "9f84f3b6",
   "metadata": {
    "execution": {
     "iopub.execute_input": "2022-10-22T22:42:41.014215Z",
     "iopub.status.busy": "2022-10-22T22:42:41.013736Z",
     "iopub.status.idle": "2022-10-22T22:42:41.021636Z",
     "shell.execute_reply": "2022-10-22T22:42:41.020103Z"
    },
    "papermill": {
     "duration": 0.026432,
     "end_time": "2022-10-22T22:42:41.024732",
     "exception": false,
     "start_time": "2022-10-22T22:42:40.998300",
     "status": "completed"
    },
    "tags": []
   },
   "outputs": [],
   "source": [
    "X = data_train.copy()\n",
    "y = X.pop(\"Survived\")"
   ]
  },
  {
   "cell_type": "markdown",
   "id": "faeccd53",
   "metadata": {
    "papermill": {
     "duration": 0.012447,
     "end_time": "2022-10-22T22:42:41.050281",
     "exception": false,
     "start_time": "2022-10-22T22:42:41.037834",
     "status": "completed"
    },
    "tags": []
   },
   "source": [
    "    We observe that Ticket and Cabin are not important features, so we drop them completely:"
   ]
  },
  {
   "cell_type": "code",
   "execution_count": 12,
   "id": "3b575dbb",
   "metadata": {
    "execution": {
     "iopub.execute_input": "2022-10-22T22:42:41.078205Z",
     "iopub.status.busy": "2022-10-22T22:42:41.077741Z",
     "iopub.status.idle": "2022-10-22T22:42:41.087525Z",
     "shell.execute_reply": "2022-10-22T22:42:41.086614Z"
    },
    "papermill": {
     "duration": 0.026689,
     "end_time": "2022-10-22T22:42:41.089957",
     "exception": false,
     "start_time": "2022-10-22T22:42:41.063268",
     "status": "completed"
    },
    "tags": []
   },
   "outputs": [],
   "source": [
    "X = X.drop(['Ticket', 'Cabin'], axis = 'columns')"
   ]
  },
  {
   "cell_type": "markdown",
   "id": "0fc2c9a9",
   "metadata": {
    "papermill": {
     "duration": 0.013004,
     "end_time": "2022-10-22T22:42:41.115972",
     "exception": false,
     "start_time": "2022-10-22T22:42:41.102968",
     "status": "completed"
    },
    "tags": []
   },
   "source": [
    "    \"Age\" has null values in it. So to get rid of them, they become the mean of the numeric values:"
   ]
  },
  {
   "cell_type": "code",
   "execution_count": 13,
   "id": "81d88158",
   "metadata": {
    "execution": {
     "iopub.execute_input": "2022-10-22T22:42:41.146844Z",
     "iopub.status.busy": "2022-10-22T22:42:41.146172Z",
     "iopub.status.idle": "2022-10-22T22:42:41.152791Z",
     "shell.execute_reply": "2022-10-22T22:42:41.151329Z"
    },
    "papermill": {
     "duration": 0.026078,
     "end_time": "2022-10-22T22:42:41.156192",
     "exception": false,
     "start_time": "2022-10-22T22:42:41.130114",
     "status": "completed"
    },
    "tags": []
   },
   "outputs": [],
   "source": [
    "X['Age'].fillna(X['Age'].mean(), inplace=True)"
   ]
  },
  {
   "cell_type": "code",
   "execution_count": 14,
   "id": "02738cc5",
   "metadata": {
    "execution": {
     "iopub.execute_input": "2022-10-22T22:42:41.184822Z",
     "iopub.status.busy": "2022-10-22T22:42:41.183884Z",
     "iopub.status.idle": "2022-10-22T22:42:41.206349Z",
     "shell.execute_reply": "2022-10-22T22:42:41.204830Z"
    },
    "papermill": {
     "duration": 0.039535,
     "end_time": "2022-10-22T22:42:41.209200",
     "exception": false,
     "start_time": "2022-10-22T22:42:41.169665",
     "status": "completed"
    },
    "tags": []
   },
   "outputs": [
    {
     "data": {
      "text/html": [
       "<div>\n",
       "<style scoped>\n",
       "    .dataframe tbody tr th:only-of-type {\n",
       "        vertical-align: middle;\n",
       "    }\n",
       "\n",
       "    .dataframe tbody tr th {\n",
       "        vertical-align: top;\n",
       "    }\n",
       "\n",
       "    .dataframe thead th {\n",
       "        text-align: right;\n",
       "    }\n",
       "</style>\n",
       "<table border=\"1\" class=\"dataframe\">\n",
       "  <thead>\n",
       "    <tr style=\"text-align: right;\">\n",
       "      <th></th>\n",
       "      <th>PassengerId</th>\n",
       "      <th>Pclass</th>\n",
       "      <th>Name</th>\n",
       "      <th>Sex</th>\n",
       "      <th>Age</th>\n",
       "      <th>SibSp</th>\n",
       "      <th>Parch</th>\n",
       "      <th>Embarked</th>\n",
       "      <th>Fare</th>\n",
       "    </tr>\n",
       "  </thead>\n",
       "  <tbody>\n",
       "    <tr>\n",
       "      <th>0</th>\n",
       "      <td>1</td>\n",
       "      <td>3</td>\n",
       "      <td>Braund, Mr. Owen Harris</td>\n",
       "      <td>male</td>\n",
       "      <td>22</td>\n",
       "      <td>1</td>\n",
       "      <td>0</td>\n",
       "      <td>S</td>\n",
       "      <td>7</td>\n",
       "    </tr>\n",
       "    <tr>\n",
       "      <th>1</th>\n",
       "      <td>2</td>\n",
       "      <td>1</td>\n",
       "      <td>Cumings, Mrs. John Bradley (Florence Briggs Th...</td>\n",
       "      <td>female</td>\n",
       "      <td>38</td>\n",
       "      <td>1</td>\n",
       "      <td>0</td>\n",
       "      <td>C</td>\n",
       "      <td>71</td>\n",
       "    </tr>\n",
       "    <tr>\n",
       "      <th>2</th>\n",
       "      <td>3</td>\n",
       "      <td>3</td>\n",
       "      <td>Heikkinen, Miss. Laina</td>\n",
       "      <td>female</td>\n",
       "      <td>26</td>\n",
       "      <td>0</td>\n",
       "      <td>0</td>\n",
       "      <td>S</td>\n",
       "      <td>7</td>\n",
       "    </tr>\n",
       "    <tr>\n",
       "      <th>3</th>\n",
       "      <td>4</td>\n",
       "      <td>1</td>\n",
       "      <td>Futrelle, Mrs. Jacques Heath (Lily May Peel)</td>\n",
       "      <td>female</td>\n",
       "      <td>35</td>\n",
       "      <td>1</td>\n",
       "      <td>0</td>\n",
       "      <td>S</td>\n",
       "      <td>53</td>\n",
       "    </tr>\n",
       "    <tr>\n",
       "      <th>4</th>\n",
       "      <td>5</td>\n",
       "      <td>3</td>\n",
       "      <td>Allen, Mr. William Henry</td>\n",
       "      <td>male</td>\n",
       "      <td>35</td>\n",
       "      <td>0</td>\n",
       "      <td>0</td>\n",
       "      <td>S</td>\n",
       "      <td>8</td>\n",
       "    </tr>\n",
       "  </tbody>\n",
       "</table>\n",
       "</div>"
      ],
      "text/plain": [
       "   PassengerId  Pclass                                               Name  \\\n",
       "0            1       3                            Braund, Mr. Owen Harris   \n",
       "1            2       1  Cumings, Mrs. John Bradley (Florence Briggs Th...   \n",
       "2            3       3                             Heikkinen, Miss. Laina   \n",
       "3            4       1       Futrelle, Mrs. Jacques Heath (Lily May Peel)   \n",
       "4            5       3                           Allen, Mr. William Henry   \n",
       "\n",
       "      Sex  Age  SibSp  Parch Embarked  Fare  \n",
       "0    male   22      1      0        S     7  \n",
       "1  female   38      1      0        C    71  \n",
       "2  female   26      0      0        S     7  \n",
       "3  female   35      1      0        S    53  \n",
       "4    male   35      0      0        S     8  "
      ]
     },
     "execution_count": 14,
     "metadata": {},
     "output_type": "execute_result"
    }
   ],
   "source": [
    "def transformFare(X):\n",
    "    result = map(int, X['Fare'])\n",
    "    result = pd.Series(result)\n",
    "    #print(result)\n",
    "    X.drop(\"Fare\", axis = 'columns', inplace = True)\n",
    "    #X.head()\n",
    "    X.insert(8, \"Fare\", result)\n",
    "    \n",
    "def transformAge(X):\n",
    "    result = map(int, X['Age'])\n",
    "    result = pd.Series(result)\n",
    "    X.drop(\"Age\", axis = \"columns\", inplace = True)\n",
    "    X.insert(4, \"Age\", result)\n",
    "    \n",
    "transformFare(X)\n",
    "transformAge(X)\n",
    "X.head()"
   ]
  },
  {
   "cell_type": "markdown",
   "id": "732202f2",
   "metadata": {
    "papermill": {
     "duration": 0.012411,
     "end_time": "2022-10-22T22:42:41.234369",
     "exception": false,
     "start_time": "2022-10-22T22:42:41.221958",
     "status": "completed"
    },
    "tags": []
   },
   "source": [
    "    After preprocessing the data, the dataset is ready to be used. We begin by implementing a mutual information function to check which features are most important:"
   ]
  },
  {
   "cell_type": "code",
   "execution_count": 15,
   "id": "cd69e67e",
   "metadata": {
    "execution": {
     "iopub.execute_input": "2022-10-22T22:42:41.262362Z",
     "iopub.status.busy": "2022-10-22T22:42:41.261982Z",
     "iopub.status.idle": "2022-10-22T22:42:41.279803Z",
     "shell.execute_reply": "2022-10-22T22:42:41.278621Z"
    },
    "papermill": {
     "duration": 0.035235,
     "end_time": "2022-10-22T22:42:41.282596",
     "exception": false,
     "start_time": "2022-10-22T22:42:41.247361",
     "status": "completed"
    },
    "tags": []
   },
   "outputs": [
    {
     "data": {
      "text/plain": [
       "PassengerId    True\n",
       "Pclass         True\n",
       "Name           True\n",
       "Sex            True\n",
       "Age            True\n",
       "SibSp          True\n",
       "Parch          True\n",
       "Embarked       True\n",
       "Fare           True\n",
       "dtype: bool"
      ]
     },
     "execution_count": 15,
     "metadata": {},
     "output_type": "execute_result"
    }
   ],
   "source": [
    "for cols in X.select_dtypes(\"object\"):\n",
    "    X[cols], _ = X[cols].factorize()\n",
    "discrete_features = X.dtypes == int\n",
    "discrete_features"
   ]
  },
  {
   "cell_type": "code",
   "execution_count": 16,
   "id": "18b6d3b8",
   "metadata": {
    "execution": {
     "iopub.execute_input": "2022-10-22T22:42:41.311171Z",
     "iopub.status.busy": "2022-10-22T22:42:41.309983Z",
     "iopub.status.idle": "2022-10-22T22:42:41.744262Z",
     "shell.execute_reply": "2022-10-22T22:42:41.741795Z"
    },
    "papermill": {
     "duration": 0.453412,
     "end_time": "2022-10-22T22:42:41.748906",
     "exception": false,
     "start_time": "2022-10-22T22:42:41.295494",
     "status": "completed"
    },
    "tags": []
   },
   "outputs": [
    {
     "data": {
      "text/plain": [
       "Sex            0.104697\n",
       "Pclass         0.084907\n",
       "Parch          0.077359\n",
       "Embarked       0.029391\n",
       "SibSp          0.006641\n",
       "Fare           0.004372\n",
       "PassengerId    0.000000\n",
       "Name           0.000000\n",
       "Age            0.000000\n",
       "Name: MI Scores, dtype: float64"
      ]
     },
     "execution_count": 16,
     "metadata": {},
     "output_type": "execute_result"
    }
   ],
   "source": [
    "from sklearn.feature_selection import mutual_info_regression\n",
    "\n",
    "def make_mi_scores(X, y, discrete_features):\n",
    "    mi_scores = mutual_info_regression(X, y)\n",
    "    mi_scores = pd.Series(mi_scores, name=\"MI Scores\", index=X.columns)\n",
    "    mi_scores = mi_scores.sort_values(ascending=False)\n",
    "    return mi_scores\n",
    "\n",
    "mi_scores = make_mi_scores(X, y, discrete_features)\n",
    "mi_scores"
   ]
  },
  {
   "cell_type": "markdown",
   "id": "989d5eec",
   "metadata": {
    "papermill": {
     "duration": 0.012835,
     "end_time": "2022-10-22T22:42:41.776147",
     "exception": false,
     "start_time": "2022-10-22T22:42:41.763312",
     "status": "completed"
    },
    "tags": []
   },
   "source": [
    "    We observe that sex influences the most the probability of survival. So we decide that we can use a linear model, Logistic Regression. But firstly, let's split the data into train and test:"
   ]
  },
  {
   "cell_type": "code",
   "execution_count": 17,
   "id": "e3959942",
   "metadata": {
    "execution": {
     "iopub.execute_input": "2022-10-22T22:42:41.805711Z",
     "iopub.status.busy": "2022-10-22T22:42:41.804144Z",
     "iopub.status.idle": "2022-10-22T22:42:41.812213Z",
     "shell.execute_reply": "2022-10-22T22:42:41.810868Z"
    },
    "papermill": {
     "duration": 0.025529,
     "end_time": "2022-10-22T22:42:41.814972",
     "exception": false,
     "start_time": "2022-10-22T22:42:41.789443",
     "status": "completed"
    },
    "tags": []
   },
   "outputs": [],
   "source": [
    "from sklearn.model_selection import train_test_split\n",
    "X_train, X_test, y_train, y_test = train_test_split(X, y, test_size = 0.25, random_state = 0)"
   ]
  },
  {
   "cell_type": "markdown",
   "id": "a6f195e6",
   "metadata": {
    "papermill": {
     "duration": 0.014618,
     "end_time": "2022-10-22T22:42:41.842898",
     "exception": false,
     "start_time": "2022-10-22T22:42:41.828280",
     "status": "completed"
    },
    "tags": []
   },
   "source": [
    "    On the first try, let's see how accurate this model is:"
   ]
  },
  {
   "cell_type": "code",
   "execution_count": 18,
   "id": "b63ef5fe",
   "metadata": {
    "execution": {
     "iopub.execute_input": "2022-10-22T22:42:41.872795Z",
     "iopub.status.busy": "2022-10-22T22:42:41.871404Z",
     "iopub.status.idle": "2022-10-22T22:42:42.000165Z",
     "shell.execute_reply": "2022-10-22T22:42:41.998672Z"
    },
    "papermill": {
     "duration": 0.14678,
     "end_time": "2022-10-22T22:42:42.003748",
     "exception": false,
     "start_time": "2022-10-22T22:42:41.856968",
     "status": "completed"
    },
    "tags": []
   },
   "outputs": [
    {
     "data": {
      "text/plain": [
       "0.7982062780269058"
      ]
     },
     "execution_count": 18,
     "metadata": {},
     "output_type": "execute_result"
    }
   ],
   "source": [
    "from sklearn.linear_model import LogisticRegression\n",
    "model = LogisticRegression(max_iter = 100000).fit(X_train, y_train)\n",
    "model.score(X_test, y_test)"
   ]
  },
  {
   "cell_type": "markdown",
   "id": "4b2ef573",
   "metadata": {
    "papermill": {
     "duration": 0.012375,
     "end_time": "2022-10-22T22:42:42.029212",
     "exception": false,
     "start_time": "2022-10-22T22:42:42.016837",
     "status": "completed"
    },
    "tags": []
   },
   "source": [
    "    It is not bad, but it can surely be improved."
   ]
  },
  {
   "cell_type": "code",
   "execution_count": 19,
   "id": "be845706",
   "metadata": {
    "execution": {
     "iopub.execute_input": "2022-10-22T22:42:42.057569Z",
     "iopub.status.busy": "2022-10-22T22:42:42.056827Z",
     "iopub.status.idle": "2022-10-22T22:42:42.884998Z",
     "shell.execute_reply": "2022-10-22T22:42:42.883727Z"
    },
    "papermill": {
     "duration": 0.845738,
     "end_time": "2022-10-22T22:42:42.887829",
     "exception": false,
     "start_time": "2022-10-22T22:42:42.042091",
     "status": "completed"
    },
    "tags": []
   },
   "outputs": [
    {
     "name": "stdout",
     "output_type": "stream",
     "text": [
      "The score for training 0.0001 is :0.651\n",
      "The score for testing 0.0001 is :0.695\n",
      "\n",
      "The score for training 0.001 is :0.675\n",
      "The score for testing 0.001 is :0.709\n",
      "\n",
      "The score for training 0.01 is :0.732\n",
      "The score for testing 0.01 is :0.771\n",
      "\n",
      "The score for training 0.1 is :0.805\n",
      "The score for testing 0.1 is :0.803\n",
      "\n",
      "The score for training 1 is :0.804\n",
      "The score for testing 1 is :0.798\n",
      "\n",
      "The score for training 10 is :0.804\n",
      "The score for testing 10 is :0.798\n",
      "\n",
      "The score for training 100 is :0.804\n",
      "The score for testing 100 is :0.798\n",
      "\n",
      "The score for training 1000 is :0.804\n",
      "The score for testing 1000 is :0.798\n",
      "\n",
      "The score for training 10000 is :0.804\n",
      "The score for testing 10000 is :0.798\n",
      "\n",
      "The score for training 100000 is :0.804\n",
      "The score for testing 100000 is :0.798\n",
      "\n"
     ]
    }
   ],
   "source": [
    "from sklearn.linear_model import LogisticRegression\n",
    "def logis(X_train, y_train, X_test, y_test):\n",
    "    for c in [0.0001, 0.001, 0.01, 0.1, 1, 10, 100, 1000, 10000, 100000]:\n",
    "        logmodel = LogisticRegression(C = c, max_iter = 100000).fit(X_train, y_train)\n",
    "        print(\"The score for training {} is :{:.3f}\".format(c, logmodel.score(X_train, y_train)))\n",
    "        print(\"The score for testing {} is :{:.3f}\\n\".format(c, logmodel.score(X_test, y_test)))\n",
    "    \n",
    "logis(X_train, y_train, X_test, y_test)"
   ]
  },
  {
   "cell_type": "markdown",
   "id": "77f5245e",
   "metadata": {
    "papermill": {
     "duration": 0.012771,
     "end_time": "2022-10-22T22:42:42.913625",
     "exception": false,
     "start_time": "2022-10-22T22:42:42.900854",
     "status": "completed"
    },
    "tags": []
   },
   "source": [
    "    The best coefficients are the ones above 0.1 and the best C value is 0.1 . It is not a model that performs poorly, but it can surely be improved. We could have used another methods for testing our model, like Leave One Out or shuffling the data, but it does not matter, since we have another data frame for testing the algorithm. But we shall see after testing it on the final dataset"
   ]
  },
  {
   "cell_type": "markdown",
   "id": "39b20d90",
   "metadata": {
    "papermill": {
     "duration": 0.012559,
     "end_time": "2022-10-22T22:42:42.939265",
     "exception": false,
     "start_time": "2022-10-22T22:42:42.926706",
     "status": "completed"
    },
    "tags": []
   },
   "source": [
    "    We can also use Logistic Regression with Cross Validation function from sklearn_linear model and try some Cross Validation techniques"
   ]
  },
  {
   "cell_type": "code",
   "execution_count": 20,
   "id": "3ffd1e2f",
   "metadata": {
    "execution": {
     "iopub.execute_input": "2022-10-22T22:42:42.967707Z",
     "iopub.status.busy": "2022-10-22T22:42:42.966827Z",
     "iopub.status.idle": "2022-10-22T22:42:45.413270Z",
     "shell.execute_reply": "2022-10-22T22:42:45.412287Z"
    },
    "papermill": {
     "duration": 2.463822,
     "end_time": "2022-10-22T22:42:45.415955",
     "exception": false,
     "start_time": "2022-10-22T22:42:42.952133",
     "status": "completed"
    },
    "tags": []
   },
   "outputs": [
    {
     "data": {
      "text/plain": [
       "0.7982062780269058"
      ]
     },
     "execution_count": 20,
     "metadata": {},
     "output_type": "execute_result"
    }
   ],
   "source": [
    "from sklearn.linear_model import LogisticRegressionCV\n",
    "#1.ShuffleSplit\n",
    "from sklearn.model_selection import ShuffleSplit\n",
    "cv = ShuffleSplit(test_size = .5, train_size = .5, n_splits = 10)\n",
    "logr = LogisticRegressionCV(max_iter = 100000, cv = cv)\n",
    "logr.fit(X_train, y_train)\n",
    "logr.score(X_test, y_test)"
   ]
  },
  {
   "cell_type": "code",
   "execution_count": 21,
   "id": "86f167a9",
   "metadata": {
    "execution": {
     "iopub.execute_input": "2022-10-22T22:42:45.447818Z",
     "iopub.status.busy": "2022-10-22T22:42:45.447129Z",
     "iopub.status.idle": "2022-10-22T22:44:26.125415Z",
     "shell.execute_reply": "2022-10-22T22:44:26.124418Z"
    },
    "papermill": {
     "duration": 100.709506,
     "end_time": "2022-10-22T22:44:26.140693",
     "exception": false,
     "start_time": "2022-10-22T22:42:45.431187",
     "status": "completed"
    },
    "tags": []
   },
   "outputs": [
    {
     "data": {
      "text/plain": [
       "0.7994011976047904"
      ]
     },
     "execution_count": 21,
     "metadata": {},
     "output_type": "execute_result"
    }
   ],
   "source": [
    "#2.LeaveOneOut\n",
    "from sklearn.model_selection import cross_val_score\n",
    "from sklearn.model_selection import LeaveOneOut\n",
    "cvo = LeaveOneOut()\n",
    "s = cross_val_score(LogisticRegression(C = 0.1, max_iter = 100000), X_train, y_train, cv = cvo)\n",
    "s.mean()"
   ]
  },
  {
   "cell_type": "code",
   "execution_count": 22,
   "id": "fdd759c3",
   "metadata": {
    "execution": {
     "iopub.execute_input": "2022-10-22T22:44:26.170482Z",
     "iopub.status.busy": "2022-10-22T22:44:26.169758Z",
     "iopub.status.idle": "2022-10-22T22:44:26.569909Z",
     "shell.execute_reply": "2022-10-22T22:44:26.568561Z"
    },
    "papermill": {
     "duration": 0.418642,
     "end_time": "2022-10-22T22:44:26.572697",
     "exception": false,
     "start_time": "2022-10-22T22:44:26.154055",
     "status": "completed"
    },
    "tags": []
   },
   "outputs": [
    {
     "data": {
      "text/plain": [
       "0.7978561521162417"
      ]
     },
     "execution_count": 22,
     "metadata": {},
     "output_type": "execute_result"
    }
   ],
   "source": [
    "#3.KFold\n",
    "from sklearn.model_selection import KFold\n",
    "kfold = KFold(n_splits = 3, shuffle = True, random_state = 0)\n",
    "result = cross_val_score(LogisticRegression(C = 0.1, max_iter = 100000), X_train, y_train, cv = kfold)\n",
    "result.mean()"
   ]
  },
  {
   "cell_type": "markdown",
   "id": "c0df2891",
   "metadata": {
    "papermill": {
     "duration": 0.013594,
     "end_time": "2022-10-22T22:44:26.601321",
     "exception": false,
     "start_time": "2022-10-22T22:44:26.587727",
     "status": "completed"
    },
    "tags": []
   },
   "source": [
    "    Another model we can use is a SVM. It can be built in different methods by adjusting parameters (especially kernel functions)"
   ]
  },
  {
   "cell_type": "code",
   "execution_count": 23,
   "id": "81e9bedb",
   "metadata": {
    "execution": {
     "iopub.execute_input": "2022-10-22T22:44:26.631787Z",
     "iopub.status.busy": "2022-10-22T22:44:26.631281Z",
     "iopub.status.idle": "2022-10-22T22:44:26.674045Z",
     "shell.execute_reply": "2022-10-22T22:44:26.672677Z"
    },
    "papermill": {
     "duration": 0.061544,
     "end_time": "2022-10-22T22:44:26.676886",
     "exception": false,
     "start_time": "2022-10-22T22:44:26.615342",
     "status": "completed"
    },
    "tags": []
   },
   "outputs": [
    {
     "data": {
      "text/plain": [
       "0.8071748878923767"
      ]
     },
     "execution_count": 23,
     "metadata": {},
     "output_type": "execute_result"
    }
   ],
   "source": [
    "from sklearn.svm import SVC\n",
    "from sklearn.preprocessing import StandardScaler\n",
    "from sklearn.pipeline import Pipeline\n",
    "pipeline = Pipeline([(\"scaler\", StandardScaler()),(\"svm\", SVC())])\n",
    " \n",
    "pipeline.fit(X_train, y_train)\n",
    "pipeline.score(X_test, y_test)"
   ]
  },
  {
   "cell_type": "markdown",
   "id": "d26ff1bb",
   "metadata": {
    "papermill": {
     "duration": 0.013177,
     "end_time": "2022-10-22T22:44:26.704177",
     "exception": false,
     "start_time": "2022-10-22T22:44:26.691000",
     "status": "completed"
    },
    "tags": []
   },
   "source": [
    "    We observe that even if the svm model is a basic one, it performs better than Logistic Regression. Now, we try to make one even performant. "
   ]
  },
  {
   "cell_type": "code",
   "execution_count": 24,
   "id": "3e13d9d2",
   "metadata": {
    "execution": {
     "iopub.execute_input": "2022-10-22T22:44:26.732751Z",
     "iopub.status.busy": "2022-10-22T22:44:26.732327Z",
     "iopub.status.idle": "2022-10-22T22:44:26.771822Z",
     "shell.execute_reply": "2022-10-22T22:44:26.770400Z"
    },
    "papermill": {
     "duration": 0.05723,
     "end_time": "2022-10-22T22:44:26.774804",
     "exception": false,
     "start_time": "2022-10-22T22:44:26.717574",
     "status": "completed"
    },
    "tags": []
   },
   "outputs": [
    {
     "data": {
      "text/plain": [
       "0.8161434977578476"
      ]
     },
     "execution_count": 24,
     "metadata": {},
     "output_type": "execute_result"
    }
   ],
   "source": [
    "svmfunc = SVC(gamma = \"auto\", class_weight = \"balanced\")\n",
    "pipeline = Pipeline([(\"scaler\", StandardScaler()),(\"svm\", svmfunc)])\n",
    " \n",
    "pipeline.fit(X_train, y_train)\n",
    "pipeline.score(X_test, y_test)"
   ]
  },
  {
   "cell_type": "markdown",
   "id": "4ef3385c",
   "metadata": {
    "papermill": {
     "duration": 0.01335,
     "end_time": "2022-10-22T22:44:26.802718",
     "exception": false,
     "start_time": "2022-10-22T22:44:26.789368",
     "status": "completed"
    },
    "tags": []
   },
   "source": [
    "    We observe that after setting class weight to balanced, we obtain a better accuracy. That is because it adjusts the weights automatically, so it is less restrictive. Next, we try different kernels:"
   ]
  },
  {
   "cell_type": "code",
   "execution_count": 25,
   "id": "a1a5ac57",
   "metadata": {
    "execution": {
     "iopub.execute_input": "2022-10-22T22:44:26.831482Z",
     "iopub.status.busy": "2022-10-22T22:44:26.831080Z",
     "iopub.status.idle": "2022-10-22T22:44:26.956685Z",
     "shell.execute_reply": "2022-10-22T22:44:26.955328Z"
    },
    "papermill": {
     "duration": 0.143189,
     "end_time": "2022-10-22T22:44:26.959437",
     "exception": false,
     "start_time": "2022-10-22T22:44:26.816248",
     "status": "completed"
    },
    "tags": []
   },
   "outputs": [
    {
     "data": {
      "text/plain": [
       "[0.7802690582959642,\n",
       " 0.8116591928251121,\n",
       " 0.8161434977578476,\n",
       " 0.7130044843049327]"
      ]
     },
     "execution_count": 25,
     "metadata": {},
     "output_type": "execute_result"
    }
   ],
   "source": [
    "kernels = [\"linear\", \"poly\", \"rbf\", \"sigmoid\"]\n",
    "\n",
    "listofscores = []\n",
    "for kernel in kernels:\n",
    "    svmfunc = SVC(gamma = \"auto\", kernel = kernel, class_weight = \"balanced\")\n",
    "    pipeline = Pipeline([(\"scaler\", StandardScaler()),(\"svm\", svmfunc)])\n",
    " \n",
    "    pipeline.fit(X_train, y_train)\n",
    "    listofscores.append(pipeline.score(X_test, y_test))\n",
    "listofscores"
   ]
  },
  {
   "cell_type": "markdown",
   "id": "723e06fd",
   "metadata": {
    "papermill": {
     "duration": 0.013474,
     "end_time": "2022-10-22T22:44:26.986818",
     "exception": false,
     "start_time": "2022-10-22T22:44:26.973344",
     "status": "completed"
    },
    "tags": []
   },
   "source": [
    "    The best results were for 1) rbf and 2)poly. We will stick with rbf."
   ]
  },
  {
   "cell_type": "markdown",
   "id": "a749df28",
   "metadata": {
    "papermill": {
     "duration": 0.013355,
     "end_time": "2022-10-22T22:44:27.013877",
     "exception": false,
     "start_time": "2022-10-22T22:44:27.000522",
     "status": "completed"
    },
    "tags": []
   },
   "source": [
    "    But there are more classification methods for support vector machines. (LinearSVC, NuSVC)"
   ]
  },
  {
   "cell_type": "code",
   "execution_count": 26,
   "id": "44260f0c",
   "metadata": {
    "execution": {
     "iopub.execute_input": "2022-10-22T22:44:27.044780Z",
     "iopub.status.busy": "2022-10-22T22:44:27.044353Z",
     "iopub.status.idle": "2022-10-22T22:44:27.181887Z",
     "shell.execute_reply": "2022-10-22T22:44:27.180475Z"
    },
    "papermill": {
     "duration": 0.15589,
     "end_time": "2022-10-22T22:44:27.184362",
     "exception": false,
     "start_time": "2022-10-22T22:44:27.028472",
     "status": "completed"
    },
    "tags": []
   },
   "outputs": [
    {
     "data": {
      "text/plain": [
       "[0.7802690582959642,\n",
       " 0.8116591928251121,\n",
       " 0.8161434977578476,\n",
       " 0.7130044843049327,\n",
       " 0.7802690582959642,\n",
       " 0.7847533632286996,\n",
       " 0.8071748878923767,\n",
       " 0.7668161434977578]"
      ]
     },
     "execution_count": 26,
     "metadata": {},
     "output_type": "execute_result"
    }
   ],
   "source": [
    "from sklearn.svm import NuSVC\n",
    "kernels = [\"linear\", \"poly\", \"rbf\", \"sigmoid\"]\n",
    "listofresults = []\n",
    "for kernel in kernels:\n",
    "    svmfunc = NuSVC(gamma = \"scale\", kernel = kernel, class_weight = \"balanced\", random_state = 0)\n",
    "    pipeline = Pipeline([(\"scaler\", StandardScaler()),(\"svm\", svmfunc)])\n",
    " \n",
    "    pipeline.fit(X_train, y_train)\n",
    "    listofscores.append(pipeline.score(X_test, y_test))\n",
    "listofscores    "
   ]
  },
  {
   "cell_type": "code",
   "execution_count": 27,
   "id": "cc180444",
   "metadata": {
    "execution": {
     "iopub.execute_input": "2022-10-22T22:44:27.213838Z",
     "iopub.status.busy": "2022-10-22T22:44:27.213416Z",
     "iopub.status.idle": "2022-10-22T22:44:27.483321Z",
     "shell.execute_reply": "2022-10-22T22:44:27.481944Z"
    },
    "papermill": {
     "duration": 0.287761,
     "end_time": "2022-10-22T22:44:27.486039",
     "exception": false,
     "start_time": "2022-10-22T22:44:27.198278",
     "status": "completed"
    },
    "tags": []
   },
   "outputs": [
    {
     "data": {
      "text/plain": [
       "0.7847533632286996"
      ]
     },
     "execution_count": 27,
     "metadata": {},
     "output_type": "execute_result"
    }
   ],
   "source": [
    "from sklearn.svm import LinearSVC\n",
    "svmfunc = LinearSVC(random_state = 0, C = 5, class_weight = \"balanced\", loss = 'squared_hinge', max_iter = 100000)\n",
    "pipeline = Pipeline([(\"scaler\", StandardScaler()),(\"svm\", svmfunc)])\n",
    " \n",
    "pipeline.fit(X_train, y_train)\n",
    "pipeline.score(X_test, y_test)"
   ]
  },
  {
   "cell_type": "markdown",
   "id": "1c7c20ad",
   "metadata": {
    "papermill": {
     "duration": 0.014298,
     "end_time": "2022-10-22T22:44:27.515027",
     "exception": false,
     "start_time": "2022-10-22T22:44:27.500729",
     "status": "completed"
    },
    "tags": []
   },
   "source": [
    "    Now, let's talk about XGBoost"
   ]
  },
  {
   "cell_type": "code",
   "execution_count": 28,
   "id": "7e41e727",
   "metadata": {
    "execution": {
     "iopub.execute_input": "2022-10-22T22:44:27.545384Z",
     "iopub.status.busy": "2022-10-22T22:44:27.545000Z",
     "iopub.status.idle": "2022-10-22T22:44:28.138490Z",
     "shell.execute_reply": "2022-10-22T22:44:28.137389Z"
    },
    "papermill": {
     "duration": 0.612261,
     "end_time": "2022-10-22T22:44:28.142019",
     "exception": false,
     "start_time": "2022-10-22T22:44:27.529758",
     "status": "completed"
    },
    "tags": []
   },
   "outputs": [
    {
     "data": {
      "text/plain": [
       "0.8385650224215246"
      ]
     },
     "execution_count": 28,
     "metadata": {},
     "output_type": "execute_result"
    }
   ],
   "source": [
    "from xgboost import XGBClassifier\n",
    "pipeline = Pipeline([(\"scaler\", StandardScaler()),(\"xgb\", XGBClassifier())])\n",
    "pipeline.fit(X_train, y_train)\n",
    "pipeline.score(X_test, y_test)"
   ]
  },
  {
   "cell_type": "markdown",
   "id": "1f9e3ad6",
   "metadata": {
    "papermill": {
     "duration": 0.014203,
     "end_time": "2022-10-22T22:44:28.172038",
     "exception": false,
     "start_time": "2022-10-22T22:44:28.157835",
     "status": "completed"
    },
    "tags": []
   },
   "source": [
    "    We observe that XGBoost performs better than the both algorithms showed before. Let's try tuning the parameters using Grid Search:"
   ]
  },
  {
   "cell_type": "code",
   "execution_count": 29,
   "id": "8a32e168",
   "metadata": {
    "execution": {
     "iopub.execute_input": "2022-10-22T22:44:28.204189Z",
     "iopub.status.busy": "2022-10-22T22:44:28.202919Z",
     "iopub.status.idle": "2022-10-22T22:46:06.801809Z",
     "shell.execute_reply": "2022-10-22T22:46:06.800642Z"
    },
    "papermill": {
     "duration": 98.625654,
     "end_time": "2022-10-22T22:46:06.812425",
     "exception": false,
     "start_time": "2022-10-22T22:44:28.186771",
     "status": "completed"
    },
    "tags": []
   },
   "outputs": [
    {
     "data": {
      "text/plain": [
       "[0.8475336322869955, 10, 0.75]"
      ]
     },
     "execution_count": 29,
     "metadata": {},
     "output_type": "execute_result"
    }
   ],
   "source": [
    "n_esti = [10, 50, 100, 250, 500, 750, 1000, 1500]\n",
    "learning_r = [0.01, 0.05, 0.1, 0.25, 0.50, 0.75, 1, 5]\n",
    "solutions = []\n",
    "scaler = StandardScaler()\n",
    "scaler.fit(X_train)\n",
    "maxi, pair = 0, [0, 0, 0]\n",
    "for n_estimator in n_esti:\n",
    "    for learning_rate in learning_r:\n",
    "        my_model = XGBClassifier(n_estimators = n_estimator, learning_rate = learning_rate)\n",
    "        my_model.fit(X_train, y_train)\n",
    "        ras = my_model.score(X_test, y_test)\n",
    "        if ras > maxi:\n",
    "            maxi = ras\n",
    "            pair = [maxi, n_estimator, learning_rate]\n",
    "pair"
   ]
  },
  {
   "cell_type": "markdown",
   "id": "1b09813e",
   "metadata": {
    "papermill": {
     "duration": 0.014522,
     "end_time": "2022-10-22T22:46:06.842320",
     "exception": false,
     "start_time": "2022-10-22T22:46:06.827798",
     "status": "completed"
    },
    "tags": []
   },
   "source": [
    "    After analyzing the results, the best parameters are: (n_estimators, learning_rate) = (10, 0.75) with the best performance of 0.8475. We will remember these parameters"
   ]
  },
  {
   "cell_type": "markdown",
   "id": "303eefd2",
   "metadata": {
    "papermill": {
     "duration": 0.014415,
     "end_time": "2022-10-22T22:46:06.871847",
     "exception": false,
     "start_time": "2022-10-22T22:46:06.857432",
     "status": "completed"
    },
    "tags": []
   },
   "source": []
  }
 ],
 "metadata": {
  "kernelspec": {
   "display_name": "Python 3",
   "language": "python",
   "name": "python3"
  },
  "language_info": {
   "codemirror_mode": {
    "name": "ipython",
    "version": 3
   },
   "file_extension": ".py",
   "mimetype": "text/x-python",
   "name": "python",
   "nbconvert_exporter": "python",
   "pygments_lexer": "ipython3",
   "version": "3.7.12"
  },
  "papermill": {
   "default_parameters": {},
   "duration": 218.739087,
   "end_time": "2022-10-22T22:46:07.914729",
   "environment_variables": {},
   "exception": null,
   "input_path": "__notebook__.ipynb",
   "output_path": "__notebook__.ipynb",
   "parameters": {},
   "start_time": "2022-10-22T22:42:29.175642",
   "version": "2.3.4"
  }
 },
 "nbformat": 4,
 "nbformat_minor": 5
}
